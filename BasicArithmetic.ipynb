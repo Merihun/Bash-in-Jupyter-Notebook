{
 "cells": [
  {
   "cell_type": "markdown",
   "metadata": {},
   "source": [
    "# Basic Arithmetic"
   ]
  },
  {
   "cell_type": "markdown",
   "metadata": {},
   "source": [
    "<a id=\"evaluation\"></a>"
   ]
  },
  {
   "cell_type": "markdown",
   "metadata": {},
   "source": [
    "## Arithmetic Evaluation and Expansion\n",
    "- syntax:\n",
    "```bash\n",
    "    $((expression))\n",
    "```\n",
    "    where expression is a valid arithmetic expression\n",
    "- can also specify different number bases\n",
    "    - `number` - by default numbers without any notation are decimal (base 10) numbers\n",
    "    - `0number` - numbers with leading zero are considered octal\n",
    "    - `0xnumber` - hexadecimal notation with 0x`\n",
    "    - `base#number` - number is in base"
   ]
  },
  {
   "cell_type": "code",
   "execution_count": 1,
   "metadata": {},
   "outputs": [
    {
     "name": "stdout",
     "output_type": "stream",
     "text": [
      "200\n",
      "255\n",
      "255\n",
      "63\n"
     ]
    }
   ],
   "source": [
    "%%bash\n",
    "echo $((200))\n",
    "echo $((0xff)) # hex\n",
    "echo $((2#11111111)) # binary\n",
    "echo $((077)) # octal"
   ]
  },
  {
   "cell_type": "markdown",
   "metadata": {},
   "source": [
    "<a id=\"operators\"></a>"
   ]
  },
  {
   "cell_type": "markdown",
   "metadata": {},
   "source": [
    "## Arithmetic operators\n",
    "- \\+ : addition\n",
    "- \\- : subtraction\n",
    "- \\* : multiplication\n",
    "- / : integer division\n",
    "- \\** : exponentiation\n",
    "- % : modulo (remainder)\n",
    "- -= : subtraction assignment\n",
    "- += : addition assignment\n",
    "- \\*= : multiplication assignment\n",
    "- /= : integer division assignment\n",
    "- %= : modulo assignment\n",
    "- parameter++ : post-increment\n",
    "- parameter-- : post-decrement\n",
    "- ++parameter : pre-increment\n",
    "- --parameter : pre-decrement"
   ]
  },
  {
   "cell_type": "code",
   "execution_count": 5,
   "metadata": {},
   "outputs": [
    {
     "name": "stdout",
     "output_type": "stream",
     "text": [
      "5*2 = 10\n",
      "5/2 = 2\n",
      "5%2 = 1\n",
      "5**2 = 25\n",
      "20\n",
      "20\n",
      "21\n",
      "22\n",
      "21\n"
     ]
    }
   ],
   "source": [
    "%%bash\n",
    "echo \"5*2 = \"$(( 5*2 ))\n",
    "echo \"5/2 = \"$(( 5/2 ))\n",
    "echo \"5%2 = \"$(( 5%2 ))\n",
    "echo \"5**2 = \"$(( 5**2 ))\n",
    "num=10\n",
    "(( num += 10 ))\n",
    "echo $num\n",
    "echo $((num++))\n",
    "echo $num\n",
    "echo $((++num))\n",
    "echo $(( --num))"
   ]
  },
  {
   "cell_type": "code",
   "execution_count": 2,
   "metadata": {},
   "outputs": [
    {
     "name": "stdout",
     "output_type": "stream",
     "text": [
      "a\ta**2\ta**3\n",
      "=\t====\t====\n",
      "0\t0\t0\n",
      "1\t1\t1\n",
      "2\t4\t8\n",
      "3\t9\t27\n",
      "4\t16\t64\n",
      "5\t25\t125\n",
      "6\t36\t216\n",
      "7\t49\t343\n",
      "8\t64\t512\n",
      "9\t81\t729\n",
      "10\t100\t1000\n"
     ]
    }
   ],
   "source": [
    "%%bash\n",
    "#!/bin/bash\n",
    "# script to demonstrate arithmetic operators\n",
    "finished=0 # 0 is evaluated as true/success\n",
    "a=0\n",
    "printf \"a\\ta**2\\ta**3\\n\"\n",
    "printf \"=\\t====\\t====\\n\"\n",
    "until ((finished)); do\n",
    "    b=$((a**2))\n",
    "    c=$((a**3))\n",
    "    printf \"%d\\t%d\\t%d\\n\" $a $b $c\n",
    "    (( a<10 ? ++a : (finished=1) ))\n",
    "done"
   ]
  },
  {
   "cell_type": "code",
   "execution_count": null,
   "metadata": {},
   "outputs": [],
   "source": []
  }
 ],
 "metadata": {
  "kernelspec": {
   "display_name": "Python 3",
   "language": "python",
   "name": "python3"
  },
  "language_info": {
   "codemirror_mode": {
    "name": "ipython",
    "version": 3
   },
   "file_extension": ".py",
   "mimetype": "text/x-python",
   "name": "python",
   "nbconvert_exporter": "python",
   "pygments_lexer": "ipython3",
   "version": "3.8.5"
  }
 },
 "nbformat": 4,
 "nbformat_minor": 2
}
