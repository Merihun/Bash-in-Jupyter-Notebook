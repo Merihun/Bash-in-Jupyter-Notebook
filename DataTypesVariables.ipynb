{
 "cells": [
  {
   "cell_type": "markdown",
   "metadata": {},
   "source": [
    "# Data Types, Variables and Standard IO\n",
    "\n",
    "\n",
    "## Bash script\n",
    "- Bash is dynamic typed programming language\n",
    "- Bash is not a general purpose programming language\n",
    "    - langauge to script bash commands for system administration purpose\n",
    "- use code editor such as VS Code to write bash script\n",
    "- open demo-scripts/hello.sh in an editor (VS Code)\n",
    "- provide executable permission to hello.sh\n",
    "- runt the program\n",
    "\n",
    "```bash\n",
    "chmod u+x hello.sh\n",
    "./hello.sh\n",
    "```\n",
    "\n",
    "## Data types\n",
    "- Bash supports mainly 3 data types: Integer, Float and String"
   ]
  },
  {
   "cell_type": "markdown",
   "metadata": {},
   "source": [
    "## Declaring and using variables\n",
    "- like in any other programming languages variables are used to store data values\n",
    "- syntax to declare variables:\n",
    "\n",
    "```bash\n",
    "varName=Value\n",
    "```\n",
    "- note not spaces around `=`\n",
    "- Syntax to use variables:\n",
    "```bash\n",
    "$varName\n",
    "```\n",
    "\n",
    "- you can write complete bash script in Jupyter Notebook with Python kernel using `%%bash` magic"
   ]
  },
  {
   "cell_type": "code",
   "execution_count": 3,
   "metadata": {},
   "outputs": [
    {
     "name": "stdout",
     "output_type": "stream",
     "text": [
      "value\n"
     ]
    }
   ],
   "source": [
    "%%bash\n",
    "var=\"value\" # not a correct way to declare bash variables\n",
    "echo $var"
   ]
  },
  {
   "cell_type": "code",
   "execution_count": 13,
   "metadata": {},
   "outputs": [
    {
     "name": "stdout",
     "output_type": "stream",
     "text": [
      "name = John Smith\n"
     ]
    }
   ],
   "source": [
    "%%bash\n",
    "num=100 # int\n",
    "price=999.123456789 # float\n",
    "name=\"John Smith\" # string\n",
    "person='Jane Smith' # string\n",
    "echo name = $name"
   ]
  },
  {
   "cell_type": "markdown",
   "metadata": {},
   "source": [
    "## Standard output\n",
    "\n",
    "- two commands to write data to standard output/terminal:\n",
    "    - echo\n",
    "    - printf\n",
    "\n",
    "```bash\n",
    "echo literal data and or $variable \n",
    "```\n",
    "\n",
    "- printf command examples: [https://linuxize.com/post/bash-printf-command/](https://linuxize.com/post/bash-printf-command/)\n",
    "\n",
    "\n",
    "```bash\n",
    "printf <format> <space separated arguments>\n",
    "```\n",
    "- formats    \n",
    "    - %x - hex\n",
    "    - %o - octal\n",
    "    - %d or %i - signed decimal\n",
    "    - %s - string\n",
    "    - %f - float\n",
    "    \n",
    "### Note:\n",
    " - echo adds a newline by default; printf doesn't"
   ]
  },
  {
   "cell_type": "code",
   "execution_count": 17,
   "metadata": {},
   "outputs": [
    {
     "name": "stdout",
     "output_type": "stream",
     "text": [
      "hi there!\n",
      "float data= 2.35  and more data:  good bye! "
     ]
    }
   ],
   "source": [
    "%%bash\n",
    "echo \"hi there!\"\n",
    "printf \"float data= %.2f  and more data: \" 2.3456\n",
    "printf \" good bye! \""
   ]
  },
  {
   "cell_type": "code",
   "execution_count": 18,
   "metadata": {},
   "outputs": [
    {
     "name": "stdout",
     "output_type": "stream",
     "text": [
      "1.4\r\n",
      "2.3\r\n",
      "3.5\r\n"
     ]
    }
   ],
   "source": [
    "# multiple values for single format string\n",
    "! printf \"%.1f\\n\" 1.44 2.33 3.49 "
   ]
  },
  {
   "cell_type": "code",
   "execution_count": 12,
   "metadata": {},
   "outputs": [
    {
     "name": "stdout",
     "output_type": "stream",
     "text": [
      "name = John Smith\n",
      "Hello Jane Smith. Nice meeting you!\n",
      "Price of new iphone is $999.123\n",
      "Mr. John Smith\n"
     ]
    }
   ],
   "source": [
    "%%bash\n",
    "num=100 # int\n",
    "price=999.123456789 # float\n",
    "name=\"John Smith\" # string\n",
    "person='Jane Smith' # string\n",
    "echo name = $name\n",
    "printf \"Hello %s. Nice meeting you!\\n\" \"$person\" # need quotes for values with spaces\n",
    "printf 'Price of new iphone is $%.3f\\n' $price\n",
    "echo \"Mr. ${name}\" # can also use curly braces"
   ]
  },
  {
   "cell_type": "markdown",
   "metadata": {},
   "source": [
    "## Standard Input\n",
    "\n",
    "- use read command to read data from keyboard\n",
    "\n",
    "```bash\n",
    "read -p \"prompt\" varName\n",
    "```\n",
    "\n",
    "- standard input doesn't work in jupyter notebook\n",
    "- see `demo-scripts/std-io.sh` script"
   ]
  },
  {
   "cell_type": "code",
   "execution_count": null,
   "metadata": {},
   "outputs": [],
   "source": []
  }
 ],
 "metadata": {
  "kernelspec": {
   "display_name": "Python 3",
   "language": "python",
   "name": "python3"
  },
  "language_info": {
   "codemirror_mode": {
    "name": "ipython",
    "version": 3
   },
   "file_extension": ".py",
   "mimetype": "text/x-python",
   "name": "python",
   "nbconvert_exporter": "python",
   "pygments_lexer": "ipython3",
   "version": "3.8.5"
  }
 },
 "nbformat": 4,
 "nbformat_minor": 2
}
